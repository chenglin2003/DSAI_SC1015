{
 "cells": [
  {
   "cell_type": "code",
   "execution_count": 1,
   "id": "1ca24e2f",
   "metadata": {},
   "outputs": [
    {
     "name": "stdout",
     "output_type": "stream",
     "text": [
      "Intel MKL WARNING: Support of Intel(R) Streaming SIMD Extensions 4.2 (Intel(R) SSE4.2) enabled only processors has been deprecated. Intel oneAPI Math Kernel Library 2025.0 will require Intel(R) Advanced Vector Extensions (Intel(R) AVX) instructions.\n",
      "Intel MKL WARNING: Support of Intel(R) Streaming SIMD Extensions 4.2 (Intel(R) SSE4.2) enabled only processors has been deprecated. Intel oneAPI Math Kernel Library 2025.0 will require Intel(R) Advanced Vector Extensions (Intel(R) AVX) instructions.\n"
     ]
    }
   ],
   "source": [
    "import numpy as np \n",
    "import pandas as pd \n",
    "import matplotlib.pyplot as plt \n",
    "import seaborn as sns "
   ]
  },
  {
   "cell_type": "code",
   "execution_count": 6,
   "id": "249aec4e",
   "metadata": {},
   "outputs": [],
   "source": [
    "salaries = pd.read_csv(\"salary-prediction-for-job-postings/usjobs_train.csv\")"
   ]
  },
  {
   "cell_type": "code",
   "execution_count": 7,
   "id": "f5d1e06a",
   "metadata": {},
   "outputs": [
    {
     "data": {
      "text/plain": [
       "ID                      0\n",
       "Job                     0\n",
       "Jobs_Group              0\n",
       "Profile             21107\n",
       "Remote              19319\n",
       "Company                 9\n",
       "Location               13\n",
       "City                 3824\n",
       "State                3112\n",
       "Frecuency_Salary        0\n",
       "Mean_Salary             0\n",
       "Skills                  0\n",
       "Sector               7214\n",
       "Sector_Group         7214\n",
       "Revenue             18318\n",
       "Employee            12799\n",
       "Company_Score        8762\n",
       "Reviews              8762\n",
       "Director            20785\n",
       "Director_Score      21924\n",
       "URL                 16033\n",
       "dtype: int64"
      ]
     },
     "execution_count": 7,
     "metadata": {},
     "output_type": "execute_result"
    }
   ],
   "source": [
    "salaries.isna().sum()"
   ]
  },
  {
   "cell_type": "code",
   "execution_count": 8,
   "id": "9a258fc6",
   "metadata": {},
   "outputs": [
    {
     "data": {
      "text/plain": [
       "Index(['ID', 'Job', 'Jobs_Group', 'Profile', 'Remote', 'Company', 'Location',\n",
       "       'City', 'State', 'Frecuency_Salary', 'Mean_Salary', 'Skills', 'Sector',\n",
       "       'Sector_Group', 'Revenue', 'Employee', 'Company_Score', 'Reviews',\n",
       "       'Director', 'Director_Score', 'URL'],\n",
       "      dtype='object')"
      ]
     },
     "execution_count": 8,
     "metadata": {},
     "output_type": "execute_result"
    }
   ],
   "source": [
    "salaries.columns"
   ]
  },
  {
   "cell_type": "code",
   "execution_count": null,
   "id": "f2adf34f",
   "metadata": {},
   "outputs": [],
   "source": []
  }
 ],
 "metadata": {
  "kernelspec": {
   "display_name": "Python 3 (ipykernel)",
   "language": "python",
   "name": "python3"
  },
  "language_info": {
   "codemirror_mode": {
    "name": "ipython",
    "version": 3
   },
   "file_extension": ".py",
   "mimetype": "text/x-python",
   "name": "python",
   "nbconvert_exporter": "python",
   "pygments_lexer": "ipython3",
   "version": "3.9.18"
  }
 },
 "nbformat": 4,
 "nbformat_minor": 5
}
